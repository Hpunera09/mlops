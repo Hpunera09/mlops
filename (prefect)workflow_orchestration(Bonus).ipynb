{
 "cells": [
  {
   "cell_type": "code",
   "execution_count": 7,
   "id": "8755f34a-8266-417b-ba29-1ef448322178",
   "metadata": {},
   "outputs": [
    {
     "name": "stderr",
     "output_type": "stream",
     "text": [
      "[nltk_data] Downloading package stopwords to\n",
      "[nltk_data]     C:\\Users\\harsh\\AppData\\Roaming\\nltk_data...\n",
      "[nltk_data]   Package stopwords is already up-to-date!\n",
      "[nltk_data] Downloading package wordnet to\n",
      "[nltk_data]     C:\\Users\\harsh\\AppData\\Roaming\\nltk_data...\n",
      "[nltk_data]   Package wordnet is already up-to-date!\n"
     ]
    },
    {
     "data": {
      "text/plain": [
       "179"
      ]
     },
     "execution_count": 7,
     "metadata": {},
     "output_type": "execute_result"
    }
   ],
   "source": [
    "import pandas as pd\n",
    "import re\n",
    "from sklearn import metrics\n",
    "from sklearn.model_selection import train_test_split\n",
    "import nltk\n",
    "from nltk.tokenize import word_tokenize\n",
    "from nltk.corpus import stopwords\n",
    "from nltk.stem import WordNetLemmatizer\n",
    "from sklearn.feature_extraction.text import TfidfVectorizer\n",
    "from sklearn.svm import SVC\n",
    "nltk.download(\"stopwords\")\n",
    "nltk.download(\"wordnet\")\n",
    "len(stopwords.words(\"english\"))"
   ]
  },
  {
   "cell_type": "code",
   "execution_count": 8,
   "id": "17b0b120-4591-43fa-971e-8a175bff021a",
   "metadata": {},
   "outputs": [],
   "source": [
    "def load_data(file_path):\n",
    "    return pd.read_csv(file_path)"
   ]
  },
  {
   "cell_type": "code",
   "execution_count": 9,
   "id": "dc1769bd-fddc-4d91-9a06-3bc317896609",
   "metadata": {},
   "outputs": [],
   "source": [
    "def split_inputs_output(data, inputs, output):\n",
    "    X = data[inputs]\n",
    "    y = data[output]\n",
    "    return X, y"
   ]
  },
  {
   "cell_type": "code",
   "execution_count": 10,
   "id": "821d177d-580c-4774-8752-a56f3e4f2729",
   "metadata": {},
   "outputs": [],
   "source": [
    "def split_train_test(X, y, test_size=0.25, random_state=0):\n",
    "    return train_test_split(X, y, test_size=test_size, random_state=random_state)"
   ]
  },
  {
   "cell_type": "code",
   "execution_count": 11,
   "id": "0c42638a-e01f-435d-b57f-69bc3150ce57",
   "metadata": {},
   "outputs": [],
   "source": [
    "def preprocess_data(X_train, X_test, y_train, y_test):\n",
    "    def preprocess(raw_text):\n",
    "        lemmatizer = WordNetLemmatizer()\n",
    "        english_stopwords = set(stopwords.words('english'))\n",
    "        negation_words = {'not', 'no', 'nor', 'ain', 'aren', \"aren't\", 'couldn', \"couldn't\", 'didn', \"didn't\", 'doesn', \"doesn't\", 'hadn', \"hadn't\", 'hasn', \"hasn't\", 'haven', \"haven't\", 'isn', \"isn't\", 'ma', 'mightn', \"mightn't\", 'mustn', \"mustn't\", 'needn', \"needn't\", 'shan', \"shan't\", 'shouldn', \"shouldn't\", 'wasn', \"wasn't\", 'weren', \"weren't\", 'won', \"won't\", 'wouldn', \"wouldn't\",\"don\",\"don't\",\"over\"}\n",
    "        custom_stopwords = english_stopwords - negation_words\n",
    "        # Remove non-alphabetic characters and integers\n",
    "        sentence = re.sub(\"[^a-zA-Z]\", \" \", str(raw_text))\n",
    "            \n",
    "        sentence = sentence.lower()\n",
    "        \n",
    "        tokens = sentence.split()\n",
    "                            \n",
    "        # You might need to define custom_stopwords and lemmatizer\n",
    "        clean_tokens = [t for t in tokens if t not in custom_stopwords]\n",
    "            \n",
    "        clean_tokens = [lemmatizer.lemmatize(word) for word in clean_tokens]\n",
    "            \n",
    "        return \" \".join(clean_tokens)\n",
    "    vect= TfidfVectorizer()\n",
    "    X_train_vector = vect.fit_transform(X_train['Review text'].apply(preprocess))\n",
    "    X_test_vector = vect.transform(X_test['Review text'].apply(preprocess))\n",
    "    return X_train_vector, X_test_vector, y_train, y_test"
   ]
  },
  {
   "cell_type": "code",
   "execution_count": 12,
   "id": "9044b6b7-d27a-44a8-a88f-abc0cb40d161",
   "metadata": {},
   "outputs": [],
   "source": [
    "def train_model(X_train_vector, y_train, hyperparameters):\n",
    "    clf = SVC(**hyperparameters)\n",
    "    clf.fit(X_train_vector, y_train)\n",
    "    return clf"
   ]
  },
  {
   "cell_type": "code",
   "execution_count": 13,
   "id": "451b20aa-4969-4dba-a8a2-01105e79f03e",
   "metadata": {},
   "outputs": [],
   "source": [
    "def evaluate_model(model, X_train_vector, y_train, X_test_vector, y_test):\n",
    "    y_train_pred = model.predict(X_train_vector)\n",
    "    y_test_pred = model.predict(X_test_vector)\n",
    "\n",
    "    train_score = metrics.accuracy_score(y_train, y_train_pred)\n",
    "    test_score = metrics.accuracy_score(y_test, y_test_pred)\n",
    "    \n",
    "    return train_score, test_score"
   ]
  },
  {
   "cell_type": "code",
   "execution_count": 14,
   "id": "94e366fc-5798-40ab-9cf8-5938fa04b4e5",
   "metadata": {},
   "outputs": [],
   "source": [
    "def workflow(data_path):\n",
    "    DATA_PATH = data_path\n",
    "    INPUTS = ['Review text']\n",
    "    OUTPUT = 'label'\n",
    "    HYPERPARAMETERS =hyperparameters_svc = {'C': 1,'kernel': 'rbf'}\n",
    "    \n",
    "\n",
    "    df = load_data(DATA_PATH)\n",
    "\n",
    "    \n",
    "    X, y = split_inputs_output(df, INPUTS, OUTPUT)\n",
    "\n",
    "   \n",
    "    X_train, X_test, y_train, y_test = split_train_test(X, y)\n",
    "\n",
    "   \n",
    "    X_train_vector, X_test_vector, y_train, y_test = preprocess_data(X_train, X_test, y_train, y_test)\n",
    "\n",
    "   \n",
    "    model = train_model(X_train_vector, y_train, HYPERPARAMETERS)\n",
    "    \n",
    "    \n",
    "    train_score, test_score = evaluate_model(model, X_train_vector, y_train, X_test_vector, y_test)\n",
    "    \n",
    "    print(\"Train Score:\", train_score)\n",
    "    print(\"Test Score:\", test_score)"
   ]
  },
  {
   "cell_type": "code",
   "execution_count": 15,
   "id": "ed3a0d16-ca79-4829-a791-4ee09fd1acba",
   "metadata": {},
   "outputs": [
    {
     "name": "stdout",
     "output_type": "stream",
     "text": [
      "Train Score: 0.9508905852417303\n",
      "Test Score: 0.8718535469107551\n"
     ]
    }
   ],
   "source": [
    "if __name__ == \"__main__\":\n",
    "    workflow(data_path=\"new_data.csv\")"
   ]
  },
  {
   "cell_type": "code",
   "execution_count": 16,
   "id": "32c63714-d68a-43b2-8612-2675147a99ca",
   "metadata": {},
   "outputs": [],
   "source": [
    "from prefect import task, flow"
   ]
  },
  {
   "cell_type": "code",
   "execution_count": 17,
   "id": "17f51868-edc7-4e54-8d37-98d4c44bb02f",
   "metadata": {},
   "outputs": [],
   "source": [
    "@task\n",
    "def load_data(file_path):\n",
    "    return pd.read_csv(file_path)\n",
    "    \n",
    "\n",
    "@task\n",
    "def split_inputs_output(data, inputs, output):\n",
    "    X = data[inputs]\n",
    "    y = data[output]\n",
    "    return X, y\n",
    "    \n",
    "\n",
    "@task\n",
    "def split_train_test(X, y, test_size=0.25, random_state=0):\n",
    "    return train_test_split(X, y, test_size=test_size, random_state=random_state)\n",
    "\n",
    "\n",
    "@task\n",
    "def preprocess_data(X_train, X_test, y_train, y_test):\n",
    "    def preprocess(raw_text):\n",
    "        lemmatizer = WordNetLemmatizer()\n",
    "        english_stopwords = set(stopwords.words('english'))\n",
    "        negation_words = {'not', 'no', 'nor', 'ain', 'aren', \"aren't\", 'couldn', \"couldn't\", 'didn', \"didn't\", 'doesn', \"doesn't\", 'hadn', \"hadn't\", 'hasn', \"hasn't\", 'haven', \"haven't\", 'isn', \"isn't\", 'ma', 'mightn', \"mightn't\", 'mustn', \"mustn't\", 'needn', \"needn't\", 'shan', \"shan't\", 'shouldn', \"shouldn't\", 'wasn', \"wasn't\", 'weren', \"weren't\", 'won', \"won't\", 'wouldn', \"wouldn't\",\"don\",\"don't\",\"over\"}\n",
    "        custom_stopwords = english_stopwords - negation_words\n",
    "\n",
    "        sentence = re.sub(\"[^a-zA-Z]\", \" \", str(raw_text))\n",
    "            \n",
    "        sentence = sentence.lower()\n",
    "        \n",
    "        tokens = sentence.split()\n",
    "                            \n",
    "        \n",
    "        clean_tokens = [t for t in tokens if t not in custom_stopwords]\n",
    "            \n",
    "        clean_tokens = [lemmatizer.lemmatize(word) for word in clean_tokens]\n",
    "            \n",
    "        return \" \".join(clean_tokens)\n",
    "    vect= TfidfVectorizer()\n",
    "    X_train_vector = vect.fit_transform(X_train['Review text'].apply(preprocess))\n",
    "    X_test_vector = vect.transform(X_test['Review text'].apply(preprocess))\n",
    "    return X_train_vector, X_test_vector, y_train, y_test\n",
    "\n",
    "\n",
    "\n",
    "@task\n",
    "def train_model(X_train_vector, y_train, hyperparameters):\n",
    "    clf = SVC(**hyperparameters)\n",
    "    clf.fit(X_train_vector, y_train)\n",
    "    return clf\n",
    "\n",
    "\n",
    "\n",
    "@task\n",
    "def evaluate_model(model, X_train_vector, y_train, X_test_vector, y_test):\n",
    "    y_train_pred = model.predict(X_train_vector)\n",
    "    y_test_pred = model.predict(X_test_vector)\n",
    "\n",
    "    train_score = metrics.accuracy_score(y_train, y_train_pred)\n",
    "    test_score = metrics.accuracy_score(y_test, y_test_pred)\n",
    "    \n",
    "    return train_score, test_score"
   ]
  },
  {
   "cell_type": "code",
   "execution_count": 18,
   "id": "cb9c9935-5aea-40a9-bbb9-8328f0ec0e6b",
   "metadata": {},
   "outputs": [],
   "source": [
    "@flow(name=\"SVC Training Flow\")\n",
    "def workflow(data_path):\n",
    "    DATA_PATH = data_path\n",
    "    INPUTS = ['Review text']\n",
    "    OUTPUT = 'label'\n",
    "    HYPERPARAMETERS =hyperparameters_svc = {'C': 1,'kernel': 'rbf'}\n",
    "    \n",
    "   \n",
    "    df = load_data(DATA_PATH)\n",
    "\n",
    "    \n",
    "    X, y = split_inputs_output(df, INPUTS, OUTPUT)\n",
    "\n",
    "    \n",
    "    X_train, X_test, y_train, y_test = split_train_test(X, y)\n",
    "\n",
    "    \n",
    "    X_train_vector, X_test_vector, y_train, y_test = preprocess_data(X_train, X_test, y_train, y_test)\n",
    "\n",
    "    \n",
    "    model = train_model(X_train_vector, y_train, HYPERPARAMETERS)\n",
    "    \n",
    "    \n",
    "    train_score, test_score = evaluate_model(model, X_train_vector, y_train, X_test_vector, y_test)\n",
    "    \n",
    "    print(\"Train Score:\", train_score)\n",
    "    print(\"Test Score:\", test_score)"
   ]
  },
  {
   "cell_type": "code",
   "execution_count": 19,
   "id": "f9b61112-08a0-40bc-8fc9-743262209d9e",
   "metadata": {},
   "outputs": [
    {
     "data": {
      "text/html": [
       "<pre style=\"white-space:pre;overflow-x:auto;line-height:normal;font-family:Menlo,'DejaVu Sans Mono',consolas,'Courier New',monospace\">23:02:40.875 | <span style=\"color: #008080; text-decoration-color: #008080\">INFO</span>    | prefect.engine - Created flow run<span style=\"color: #800080; text-decoration-color: #800080\"> 'beryl-gorilla'</span> for flow<span style=\"color: #800080; text-decoration-color: #800080; font-weight: bold\"> 'SVC Training Flow'</span>\n",
       "</pre>\n"
      ],
      "text/plain": [
       "23:02:40.875 | \u001b[36mINFO\u001b[0m    | prefect.engine - Created flow run\u001b[35m 'beryl-gorilla'\u001b[0m for flow\u001b[1;35m 'SVC Training Flow'\u001b[0m\n"
      ]
     },
     "metadata": {},
     "output_type": "display_data"
    },
    {
     "data": {
      "text/html": [
       "<pre style=\"white-space:pre;overflow-x:auto;line-height:normal;font-family:Menlo,'DejaVu Sans Mono',consolas,'Courier New',monospace\">23:02:41.248 | <span style=\"color: #008080; text-decoration-color: #008080\">INFO</span>    | Flow run<span style=\"color: #800080; text-decoration-color: #800080\"> 'beryl-gorilla'</span> - Created task run 'load_data-0' for task 'load_data'\n",
       "</pre>\n"
      ],
      "text/plain": [
       "23:02:41.248 | \u001b[36mINFO\u001b[0m    | Flow run\u001b[35m 'beryl-gorilla'\u001b[0m - Created task run 'load_data-0' for task 'load_data'\n"
      ]
     },
     "metadata": {},
     "output_type": "display_data"
    },
    {
     "data": {
      "text/html": [
       "<pre style=\"white-space:pre;overflow-x:auto;line-height:normal;font-family:Menlo,'DejaVu Sans Mono',consolas,'Courier New',monospace\">23:02:41.251 | <span style=\"color: #008080; text-decoration-color: #008080\">INFO</span>    | Flow run<span style=\"color: #800080; text-decoration-color: #800080\"> 'beryl-gorilla'</span> - Executing 'load_data-0' immediately...\n",
       "</pre>\n"
      ],
      "text/plain": [
       "23:02:41.251 | \u001b[36mINFO\u001b[0m    | Flow run\u001b[35m 'beryl-gorilla'\u001b[0m - Executing 'load_data-0' immediately...\n"
      ]
     },
     "metadata": {},
     "output_type": "display_data"
    },
    {
     "data": {
      "text/html": [
       "<pre style=\"white-space:pre;overflow-x:auto;line-height:normal;font-family:Menlo,'DejaVu Sans Mono',consolas,'Courier New',monospace\">23:02:41.417 | <span style=\"color: #008080; text-decoration-color: #008080\">INFO</span>    | Task run 'load_data-0' - Finished in state <span style=\"color: #008000; text-decoration-color: #008000\">Completed</span>()\n",
       "</pre>\n"
      ],
      "text/plain": [
       "23:02:41.417 | \u001b[36mINFO\u001b[0m    | Task run 'load_data-0' - Finished in state \u001b[32mCompleted\u001b[0m()\n"
      ]
     },
     "metadata": {},
     "output_type": "display_data"
    },
    {
     "data": {
      "text/html": [
       "<pre style=\"white-space:pre;overflow-x:auto;line-height:normal;font-family:Menlo,'DejaVu Sans Mono',consolas,'Courier New',monospace\">23:02:41.486 | <span style=\"color: #008080; text-decoration-color: #008080\">INFO</span>    | Flow run<span style=\"color: #800080; text-decoration-color: #800080\"> 'beryl-gorilla'</span> - Created task run 'split_inputs_output-0' for task 'split_inputs_output'\n",
       "</pre>\n"
      ],
      "text/plain": [
       "23:02:41.486 | \u001b[36mINFO\u001b[0m    | Flow run\u001b[35m 'beryl-gorilla'\u001b[0m - Created task run 'split_inputs_output-0' for task 'split_inputs_output'\n"
      ]
     },
     "metadata": {},
     "output_type": "display_data"
    },
    {
     "data": {
      "text/html": [
       "<pre style=\"white-space:pre;overflow-x:auto;line-height:normal;font-family:Menlo,'DejaVu Sans Mono',consolas,'Courier New',monospace\">23:02:41.489 | <span style=\"color: #008080; text-decoration-color: #008080\">INFO</span>    | Flow run<span style=\"color: #800080; text-decoration-color: #800080\"> 'beryl-gorilla'</span> - Executing 'split_inputs_output-0' immediately...\n",
       "</pre>\n"
      ],
      "text/plain": [
       "23:02:41.489 | \u001b[36mINFO\u001b[0m    | Flow run\u001b[35m 'beryl-gorilla'\u001b[0m - Executing 'split_inputs_output-0' immediately...\n"
      ]
     },
     "metadata": {},
     "output_type": "display_data"
    },
    {
     "data": {
      "text/html": [
       "<pre style=\"white-space:pre;overflow-x:auto;line-height:normal;font-family:Menlo,'DejaVu Sans Mono',consolas,'Courier New',monospace\">23:02:41.630 | <span style=\"color: #008080; text-decoration-color: #008080\">INFO</span>    | Task run 'split_inputs_output-0' - Finished in state <span style=\"color: #008000; text-decoration-color: #008000\">Completed</span>()\n",
       "</pre>\n"
      ],
      "text/plain": [
       "23:02:41.630 | \u001b[36mINFO\u001b[0m    | Task run 'split_inputs_output-0' - Finished in state \u001b[32mCompleted\u001b[0m()\n"
      ]
     },
     "metadata": {},
     "output_type": "display_data"
    },
    {
     "data": {
      "text/html": [
       "<pre style=\"white-space:pre;overflow-x:auto;line-height:normal;font-family:Menlo,'DejaVu Sans Mono',consolas,'Courier New',monospace\">23:02:41.704 | <span style=\"color: #008080; text-decoration-color: #008080\">INFO</span>    | Flow run<span style=\"color: #800080; text-decoration-color: #800080\"> 'beryl-gorilla'</span> - Created task run 'split_train_test-0' for task 'split_train_test'\n",
       "</pre>\n"
      ],
      "text/plain": [
       "23:02:41.704 | \u001b[36mINFO\u001b[0m    | Flow run\u001b[35m 'beryl-gorilla'\u001b[0m - Created task run 'split_train_test-0' for task 'split_train_test'\n"
      ]
     },
     "metadata": {},
     "output_type": "display_data"
    },
    {
     "data": {
      "text/html": [
       "<pre style=\"white-space:pre;overflow-x:auto;line-height:normal;font-family:Menlo,'DejaVu Sans Mono',consolas,'Courier New',monospace\">23:02:41.708 | <span style=\"color: #008080; text-decoration-color: #008080\">INFO</span>    | Flow run<span style=\"color: #800080; text-decoration-color: #800080\"> 'beryl-gorilla'</span> - Executing 'split_train_test-0' immediately...\n",
       "</pre>\n"
      ],
      "text/plain": [
       "23:02:41.708 | \u001b[36mINFO\u001b[0m    | Flow run\u001b[35m 'beryl-gorilla'\u001b[0m - Executing 'split_train_test-0' immediately...\n"
      ]
     },
     "metadata": {},
     "output_type": "display_data"
    },
    {
     "data": {
      "text/html": [
       "<pre style=\"white-space:pre;overflow-x:auto;line-height:normal;font-family:Menlo,'DejaVu Sans Mono',consolas,'Courier New',monospace\">23:02:41.877 | <span style=\"color: #008080; text-decoration-color: #008080\">INFO</span>    | Task run 'split_train_test-0' - Finished in state <span style=\"color: #008000; text-decoration-color: #008000\">Completed</span>()\n",
       "</pre>\n"
      ],
      "text/plain": [
       "23:02:41.877 | \u001b[36mINFO\u001b[0m    | Task run 'split_train_test-0' - Finished in state \u001b[32mCompleted\u001b[0m()\n"
      ]
     },
     "metadata": {},
     "output_type": "display_data"
    },
    {
     "data": {
      "text/html": [
       "<pre style=\"white-space:pre;overflow-x:auto;line-height:normal;font-family:Menlo,'DejaVu Sans Mono',consolas,'Courier New',monospace\">23:02:41.946 | <span style=\"color: #008080; text-decoration-color: #008080\">INFO</span>    | Flow run<span style=\"color: #800080; text-decoration-color: #800080\"> 'beryl-gorilla'</span> - Created task run 'preprocess_data-0' for task 'preprocess_data'\n",
       "</pre>\n"
      ],
      "text/plain": [
       "23:02:41.946 | \u001b[36mINFO\u001b[0m    | Flow run\u001b[35m 'beryl-gorilla'\u001b[0m - Created task run 'preprocess_data-0' for task 'preprocess_data'\n"
      ]
     },
     "metadata": {},
     "output_type": "display_data"
    },
    {
     "data": {
      "text/html": [
       "<pre style=\"white-space:pre;overflow-x:auto;line-height:normal;font-family:Menlo,'DejaVu Sans Mono',consolas,'Courier New',monospace\">23:02:41.948 | <span style=\"color: #008080; text-decoration-color: #008080\">INFO</span>    | Flow run<span style=\"color: #800080; text-decoration-color: #800080\"> 'beryl-gorilla'</span> - Executing 'preprocess_data-0' immediately...\n",
       "</pre>\n"
      ],
      "text/plain": [
       "23:02:41.948 | \u001b[36mINFO\u001b[0m    | Flow run\u001b[35m 'beryl-gorilla'\u001b[0m - Executing 'preprocess_data-0' immediately...\n"
      ]
     },
     "metadata": {},
     "output_type": "display_data"
    },
    {
     "data": {
      "text/html": [
       "<pre style=\"white-space:pre;overflow-x:auto;line-height:normal;font-family:Menlo,'DejaVu Sans Mono',consolas,'Courier New',monospace\">23:02:44.247 | <span style=\"color: #008080; text-decoration-color: #008080\">INFO</span>    | Task run 'preprocess_data-0' - Finished in state <span style=\"color: #008000; text-decoration-color: #008000\">Completed</span>()\n",
       "</pre>\n"
      ],
      "text/plain": [
       "23:02:44.247 | \u001b[36mINFO\u001b[0m    | Task run 'preprocess_data-0' - Finished in state \u001b[32mCompleted\u001b[0m()\n"
      ]
     },
     "metadata": {},
     "output_type": "display_data"
    },
    {
     "data": {
      "text/html": [
       "<pre style=\"white-space:pre;overflow-x:auto;line-height:normal;font-family:Menlo,'DejaVu Sans Mono',consolas,'Courier New',monospace\">23:02:44.314 | <span style=\"color: #008080; text-decoration-color: #008080\">INFO</span>    | Flow run<span style=\"color: #800080; text-decoration-color: #800080\"> 'beryl-gorilla'</span> - Created task run 'train_model-0' for task 'train_model'\n",
       "</pre>\n"
      ],
      "text/plain": [
       "23:02:44.314 | \u001b[36mINFO\u001b[0m    | Flow run\u001b[35m 'beryl-gorilla'\u001b[0m - Created task run 'train_model-0' for task 'train_model'\n"
      ]
     },
     "metadata": {},
     "output_type": "display_data"
    },
    {
     "data": {
      "text/html": [
       "<pre style=\"white-space:pre;overflow-x:auto;line-height:normal;font-family:Menlo,'DejaVu Sans Mono',consolas,'Courier New',monospace\">23:02:44.316 | <span style=\"color: #008080; text-decoration-color: #008080\">INFO</span>    | Flow run<span style=\"color: #800080; text-decoration-color: #800080\"> 'beryl-gorilla'</span> - Executing 'train_model-0' immediately...\n",
       "</pre>\n"
      ],
      "text/plain": [
       "23:02:44.316 | \u001b[36mINFO\u001b[0m    | Flow run\u001b[35m 'beryl-gorilla'\u001b[0m - Executing 'train_model-0' immediately...\n"
      ]
     },
     "metadata": {},
     "output_type": "display_data"
    },
    {
     "data": {
      "text/html": [
       "<pre style=\"white-space:pre;overflow-x:auto;line-height:normal;font-family:Menlo,'DejaVu Sans Mono',consolas,'Courier New',monospace\">23:02:45.144 | <span style=\"color: #008080; text-decoration-color: #008080\">INFO</span>    | Task run 'train_model-0' - Finished in state <span style=\"color: #008000; text-decoration-color: #008000\">Completed</span>()\n",
       "</pre>\n"
      ],
      "text/plain": [
       "23:02:45.144 | \u001b[36mINFO\u001b[0m    | Task run 'train_model-0' - Finished in state \u001b[32mCompleted\u001b[0m()\n"
      ]
     },
     "metadata": {},
     "output_type": "display_data"
    },
    {
     "data": {
      "text/html": [
       "<pre style=\"white-space:pre;overflow-x:auto;line-height:normal;font-family:Menlo,'DejaVu Sans Mono',consolas,'Courier New',monospace\">23:02:45.201 | <span style=\"color: #008080; text-decoration-color: #008080\">INFO</span>    | Flow run<span style=\"color: #800080; text-decoration-color: #800080\"> 'beryl-gorilla'</span> - Created task run 'evaluate_model-0' for task 'evaluate_model'\n",
       "</pre>\n"
      ],
      "text/plain": [
       "23:02:45.201 | \u001b[36mINFO\u001b[0m    | Flow run\u001b[35m 'beryl-gorilla'\u001b[0m - Created task run 'evaluate_model-0' for task 'evaluate_model'\n"
      ]
     },
     "metadata": {},
     "output_type": "display_data"
    },
    {
     "data": {
      "text/html": [
       "<pre style=\"white-space:pre;overflow-x:auto;line-height:normal;font-family:Menlo,'DejaVu Sans Mono',consolas,'Courier New',monospace\">23:02:45.203 | <span style=\"color: #008080; text-decoration-color: #008080\">INFO</span>    | Flow run<span style=\"color: #800080; text-decoration-color: #800080\"> 'beryl-gorilla'</span> - Executing 'evaluate_model-0' immediately...\n",
       "</pre>\n"
      ],
      "text/plain": [
       "23:02:45.203 | \u001b[36mINFO\u001b[0m    | Flow run\u001b[35m 'beryl-gorilla'\u001b[0m - Executing 'evaluate_model-0' immediately...\n"
      ]
     },
     "metadata": {},
     "output_type": "display_data"
    },
    {
     "data": {
      "text/html": [
       "<pre style=\"white-space:pre;overflow-x:auto;line-height:normal;font-family:Menlo,'DejaVu Sans Mono',consolas,'Courier New',monospace\">23:02:46.069 | <span style=\"color: #008080; text-decoration-color: #008080\">INFO</span>    | Task run 'evaluate_model-0' - Finished in state <span style=\"color: #008000; text-decoration-color: #008000\">Completed</span>()\n",
       "</pre>\n"
      ],
      "text/plain": [
       "23:02:46.069 | \u001b[36mINFO\u001b[0m    | Task run 'evaluate_model-0' - Finished in state \u001b[32mCompleted\u001b[0m()\n"
      ]
     },
     "metadata": {},
     "output_type": "display_data"
    },
    {
     "name": "stdout",
     "output_type": "stream",
     "text": [
      "Train Score: 0.9508905852417303\n",
      "Test Score: 0.8718535469107551\n"
     ]
    },
    {
     "data": {
      "text/html": [
       "<pre style=\"white-space:pre;overflow-x:auto;line-height:normal;font-family:Menlo,'DejaVu Sans Mono',consolas,'Courier New',monospace\">23:02:46.138 | <span style=\"color: #008080; text-decoration-color: #008080\">INFO</span>    | Flow run<span style=\"color: #800080; text-decoration-color: #800080\"> 'beryl-gorilla'</span> - Finished in state <span style=\"color: #008000; text-decoration-color: #008000\">Completed</span>('All states completed.')\n",
       "</pre>\n"
      ],
      "text/plain": [
       "23:02:46.138 | \u001b[36mINFO\u001b[0m    | Flow run\u001b[35m 'beryl-gorilla'\u001b[0m - Finished in state \u001b[32mCompleted\u001b[0m('All states completed.')\n"
      ]
     },
     "metadata": {},
     "output_type": "display_data"
    }
   ],
   "source": [
    "if __name__ == \"__main__\":\n",
    "    workflow(\"new_data.csv\")"
   ]
  },
  {
   "cell_type": "markdown",
   "id": "57b5767e-8288-4bff-8166-4b0bad533f59",
   "metadata": {},
   "source": [
    "## Prefect Dashboard"
   ]
  },
  {
   "cell_type": "markdown",
   "id": "230aaa08-54c1-4f50-a4fd-8dc77386fb02",
   "metadata": {},
   "source": [
    "<img src=\"mlflow and prefect ui/prefect1.png\" width=\"80%\" height=\"60%\">"
   ]
  },
  {
   "cell_type": "markdown",
   "id": "799da21a-cd23-4e6a-944d-c733f5a0836c",
   "metadata": {},
   "source": [
    "## prefect flow runs"
   ]
  },
  {
   "cell_type": "markdown",
   "id": "29b83ae4-1e07-435b-a540-ede137571d93",
   "metadata": {},
   "source": [
    "<img src=\"mlflow and prefect ui/prefect2.png\" width=\"80%\" height=\"60%\">"
   ]
  },
  {
   "cell_type": "markdown",
   "id": "5b9d4b41-24f6-4967-96b4-046112e142e2",
   "metadata": {},
   "source": [
    "<img src=\"mlflow and prefect ui/prefect3.png\" width=\"80%\" height=\"60%\">"
   ]
  },
  {
   "cell_type": "code",
   "execution_count": null,
   "id": "55b37a9a-1d9d-4d70-9adb-837626586a4d",
   "metadata": {},
   "outputs": [],
   "source": []
  }
 ],
 "metadata": {
  "kernelspec": {
   "display_name": "Python 3 (ipykernel)",
   "language": "python",
   "name": "python3"
  },
  "language_info": {
   "codemirror_mode": {
    "name": "ipython",
    "version": 3
   },
   "file_extension": ".py",
   "mimetype": "text/x-python",
   "name": "python",
   "nbconvert_exporter": "python",
   "pygments_lexer": "ipython3",
   "version": "3.12.2"
  }
 },
 "nbformat": 4,
 "nbformat_minor": 5
}
